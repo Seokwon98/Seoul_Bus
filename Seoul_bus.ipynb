{
 "cells": [
  {
   "cell_type": "code",
   "execution_count": 2,
   "metadata": {
    "scrolled": true
   },
   "outputs": [],
   "source": [
    "import pandas as pd\n",
    "import numpy as np"
   ]
  },
  {
   "cell_type": "code",
   "execution_count": null,
   "metadata": {},
   "outputs": [],
   "source": [
    "df = pd.read_csv('2020_10_seoul-bus.csv',encoding='cp949')\n",
    "\n",
    "df_stopcode = df['버스정류장ARS번호'] # 시각화 때 좌표값 조회를 위한 정류장 코드 저장\n",
    "\n",
    "df.drop(df.columns[[0,2,3,4,54]], axis = 1, inplace = True)\n",
    "\n",
    "df[\"bus_Term\"] = \"NA\"\n",
    "df[\"per_Hour\"] = \"NA\"\n",
    "\n",
    "\n",
    "df2 = pd.read_csv('ct.csv',encoding='cp949')\n",
    "\n",
    "\n",
    "a=0\n",
    "while (a<128):\n",
    "    df.loc[df[\"노선번호\"] == df2.iloc[a,0], \"bus_Term\"] = df2.iloc[a,1]\n",
    "    a+=1\n",
    "    \n",
    "b=0\n",
    "while (b<128):\n",
    "    df.loc[df[\"노선번호\"] == df2.iloc[b,0], \"per_Hour\"] = df2.iloc[b,2]\n",
    "    b+=1\n",
    "for i in range(2,50,2):##정류장에서의 시간대별 승차인원 수 - 정류장에서의 시간대별 하차인원수=포화도의 변화량\n",
    "    df.iloc[0:,i] = df.iloc[0:,i]-df.iloc[0:,i+1]\n",
    "    \n",
    "for j in range(3,27):##승차인원수 열들에 포화도의 변화량을 저장했으므로 하차인원열 드랍\n",
    "    df = df.drop(df.columns[j], axis='columns')\n",
    "    \n",
    "\n",
    "df3 = df.drop(df.columns[[0,1,26,27]], axis='columns')##따로 숫자 계산을 위해 문자데이터로 된 열 드랍하고 데이터프레임 생성\n",
    "df3['버스한대 당 정류장의 하루평균 포화도의 증가량'] = df3.sum(axis=1)##정류장 마다 시간대 별 포화도의 증가량을 다합침(버스한대 당 정류장의 하루평균 포화도의 증가량이 아직은 아님 )\n",
    "result_data = pd.concat([df[\"per_Hour\"],df3[\"버스한대 당 정류장의 하루평균 포화도의 증가량\"]], axis=1)##결과 데이터라는 데이터프레임 생성훈 필요한 데이터 열 추가\n",
    "result_data = result_data.div(df[\"per_Hour\"],axis=0)##버스한대 당 정류장의 하루평균 포화도의 증가량 데이터를 시간당 버스 대수로 나눔\n",
    "result_data = result_data.div(24,axis=0)##시간별로 다더했으므로 24로 나눔  즉, 버스대수와 24로 나누었으므로  정류장에서의 버스 한대 당 하루평균 포화도의 증가량이됌\n",
    "del result_data[\"per_Hour\"]##필요없는 열 삭제\n",
    "result_data = pd.concat([df[\"노선번호\"],result_data], axis=1)#노선 번호 열 추가\n",
    "\n",
    "df_vis = result_data #시각화를  위한 데이터프레임 준비\n",
    "df_vis = pd.concat([df_stopcode,result_data], axis=1) #정류장 번호 추가(정류장 위치값을 읽어올 때 사용)(시각화)\n",
    "\n",
    "\n",
    "\n",
    "for i in range(0,12680):##정류장 별 평균 포화도의 증가량 열 중에 음수인 값들은 드랍\n",
    "    if(result_data.loc[i,\"버스한대 당 정류장의 하루평균 포화도의 증가량\"]<0):\n",
    "        result_data = result_data.drop(i)\n",
    "\n",
    "result_data = result_data.reset_index()##인덱스 다시 1,2,3...으로 초기화\n",
    "del result_data[\"index\"]##필요없는 열 삭제\n",
    "\n",
    "busnum = 0 ## 버스 번호 저장할 변수\n",
    "dict_data = {}## key : 버스 번호 와 value : 버스 정류장별 평균 포화도의 증가량의 양수값들을  다 더해서 평균낸 값\n",
    "total = 0 ## 더한 값 저장 변수\n",
    "j = 0## 버스마다 평균 포화도의 양수인 값을 갯수 저장 변수\n",
    "\n",
    "for i in range(0,6224):##버스 별로 평균 포화도의 증가량의 양수값들을  다 더해서 평균낸 값을 구한후 딕셔너리에 key value 형태로 저장\n",
    "    if(busnum == 0):\n",
    "        busnum = result_data.loc[i,\"노선번호\"]\n",
    "    elif(busnum != result_data.loc[i,\"노선번호\"]):\n",
    "        dict_data[busnum] = total / j\n",
    "        busnum = result_data.loc[i,\"노선번호\"]\n",
    "        total = 0\n",
    "        j = 0\n",
    "        \n",
    "    if(result_data.loc[i,\"노선번호\"]==busnum):\n",
    "        total += result_data.loc[i,\"버스한대 당 정류장의 하루평균 포화도의 증가량\"]\n",
    "        j += 1\n",
    "        if(i == 6223):\n",
    "            dict_data[busnum] = total / j\n",
    "            \n",
    "result_data=pd.Series(dict_data)## 딕셔너리를 시리즈 데이터로 생성"
   ]
  },
  {
   "cell_type": "code",
   "execution_count": 3,
   "metadata": {
    "scrolled": true
   },
   "outputs": [],
   "source": [
    "fo = pd.read_csv('bus_loc.csv',encoding='cp949') #버스 정류장 좌표값 담은 데이터\n",
    "top_bus = result_data.sort_values(ascending = False).head(5) #상위 5개 버스\n",
    "under_bus = result_data.sort_values(axis=0).head(5) #하위 5개 버스\n",
    "\n",
    "\n",
    "a = top_bus.index # 상위 5개 버스 index값\n",
    "aa = under_bus.index\n",
    "is_topbus = df_vis['노선번호'].isin(a)\n",
    "is_underbus = df_vis['노선번호'].isin(aa)\n",
    "\n",
    "b = df_vis[is_topbus].copy() #상위 5개 버스 정보만 가진 데이터프레임\n",
    "bb = df_vis[is_underbus].copy()#하위 5개 버스 정보만 가진 데이터프레임\n",
    "\n",
    "b.rename(columns= {'버스정류장ARS번호' : '정류소번호'}, inplace = True)\n",
    "bb.rename(columns= {'버스정류장ARS번호' : '정류소번호'}, inplace = True)\n",
    "busstop = pd.merge(b, fo) #좌표값 담은 데이터와 상위 포화도 값 가진 데이터 합치기\n",
    "busstop2 = pd.merge(bb, fo) #좌표값 담은 데이터와 하위 포화도 값 가진 데이터 합치기"
   ]
  },
  {
   "cell_type": "code",
   "execution_count": 5,
   "metadata": {},
   "outputs": [],
   "source": [
    "#포화도 상위 5개 버스 시각화\n",
    "import folium\n",
    "from folium import plugins\n",
    "from folium.plugins import MarkerCluster\n",
    "\n",
    "map_hs = folium.Map((37.579183, 126.996566), zoom_start = 12) \n",
    "\n",
    "mc = MarkerCluster()\n",
    "busstop.rename(columns= {'버스한대 당 정류장의 하루평균 포화도의 증가량' : '포화도증가량'}, inplace = True)\n",
    "colors = [\"#000\", '#f00', '#080','#0c0', '#f80' ]\n",
    "\n",
    "for i in range(len(a)):   #버스 번호별로 분리\n",
    "    is_busstop = busstop['노선번호'].str.contains(a[i])\n",
    "    stop_temp = busstop[is_busstop]\n",
    "\n",
    "    for row in stop_temp.itertuples():#각 정류소 좌표, 노선번호, 정류소 이름넘겨 마커로 표시\n",
    "        mc.add_child(folium.Marker(location = [row.Y좌표, row.X좌표], tooltip = str(row.노선번호)+ '번\\n' + row.정류소명, popup = row.포화도증가량))\n",
    "        map_hs.add_child(mc)\n",
    "    coords = stop_temp[[\"Y좌표\",\"X좌표\"]]\n",
    "    plugins.PolyLineOffset(coords, color=colors[i], opacity=1, offset=-5).add_to(map_hs) #마커끼리 연결\n",
    "    \n",
    "map_hs.save('./bus_top5.html')\n"
   ]
  },
  {
   "cell_type": "code",
   "execution_count": 7,
   "metadata": {},
   "outputs": [],
   "source": [
    "#포화도 하위 5개 버스 시각화\n",
    "map_hs3 = folium.Map((37.579183, 126.996566), zoom_start = 12) \n",
    "\n",
    "mc3 = MarkerCluster()\n",
    "busstop2.rename(columns= {'버스한대 당 정류장의 하루평균 포화도의 증가량' : '포화도증가량'}, inplace = True)\n",
    "colors = [\"#000\", '#f00', '#080','#0c0', '#f80' ]\n",
    "\n",
    "\n",
    "for i in range(len(aa)):    #버스 번호별로 분리\n",
    "    is_busstop = busstop2['노선번호'].str.contains(aa[i])\n",
    "    stop_temp = busstop2[is_busstop]\n",
    "\n",
    "\n",
    "    for row in stop_temp.itertuples():#각 정류소 좌표, 노선번호, 정류소 이름넘겨 마커로 표시\n",
    "        mc3.add_child(folium.Marker(location = [row.Y좌표, row.X좌표], tooltip = str(row.노선번호)+ '번\\n' + row.정류소명, popup = row.포화도증가량))\n",
    "        map_hs3.add_child(mc3)\n",
    "    coords = stop_temp[[\"Y좌표\",\"X좌표\"]]\n",
    "    plugins.PolyLineOffset(coords, color=colors[i], opacity=1, offset=-5).add_to(map_hs3)  #마커끼리 연결\n",
    "    \n",
    "map_hs3.save('./bus_under5.html')\n"
   ]
  },
  {
   "cell_type": "code",
   "execution_count": 12,
   "metadata": {},
   "outputs": [],
   "source": [
    "#상위 5개 버스 대상 포화도 60이상 값 가지는 정류장 출력\n",
    "map_hs2 = folium.Map((37.579183, 126.996566), zoom_start = 12)\n",
    "\n",
    "mc2 = MarkerCluster()\n",
    "\n",
    "busstop.rename(columns= {'버스한대 당 정류장의 하루평균 포화도의 증가량' : '포화도증가량'}, inplace = True)\n",
    "over_num = busstop['포화도증가량'] >= 60 # 조회하고 싶은 값 입력\n",
    "over_topbus = busstop[over_num]\n",
    "\n",
    "for row in over_topbus.itertuples():#각 정류소 좌표, 노선번호, 정류소 이름넘겨 마커로 표시\n",
    "    mc2.add_child(folium.Marker(location = [row.Y좌표, row.X좌표], tooltip = str(row.노선번호)+ '번\\n' + row.정류소명, popup = row.포화도증가량))\n",
    "    map_hs2.add_child(mc2)\n",
    "coords = over_topbus[[\"Y좌표\",\"X좌표\"]]\n",
    "plugins.PolyLineOffset(coords, color='#000', opacity=1, offset=-5).add_to(map_hs2)  #마커끼리 연결\n",
    "    \n",
    "map_hs2.save('./bus_stops_over60_top5.html')"
   ]
  },
  {
   "cell_type": "code",
   "execution_count": 14,
   "metadata": {},
   "outputs": [],
   "source": [
    "#상위 5개 버스 대상 포화도 -60 이하 값 가지는 정류장 출력\n",
    "map_hs2 = folium.Map((37.579183, 126.996566), zoom_start = 12)\n",
    "\n",
    "mc2 = MarkerCluster()\n",
    "\n",
    "busstop.rename(columns= {'버스한대 당 정류장의 하루평균 포화도의 증가량' : '포화도증가량'}, inplace = True)\n",
    "over_num = busstop['포화도증가량'] <= -60 # 조회하고 싶은 값 입력\n",
    "over_topbus = busstop[over_num]\n",
    "\n",
    "for row in over_topbus.itertuples():#각 정류소 좌표, 노선번호, 정류소 이름넘겨 마커로 표시\n",
    "    mc2.add_child(folium.Marker(location = [row.Y좌표, row.X좌표], tooltip = str(row.노선번호)+ '번\\n' + row.정류소명, popup = row.포화도증가량))\n",
    "    map_hs2.add_child(mc2)\n",
    "coords = over_topbus[[\"Y좌표\",\"X좌표\"]]\n",
    "plugins.PolyLineOffset(coords, color='#000', opacity=1, offset=-5).add_to(map_hs2)  #마커끼리 연결\n",
    "    \n",
    "map_hs2.save('./bus_stops_under-60_top5.html')"
   ]
  },
  {
   "cell_type": "code",
   "execution_count": 18,
   "metadata": {},
   "outputs": [
    {
     "name": "stdout",
     "output_type": "stream",
     "text": [
      "원하시는 포화도의 값을 입력하세요. : 80\n"
     ]
    }
   ],
   "source": [
    "#상위 5개 버스 대상 포화도 이상 조회(60 조회시 60 이상 표시)\n",
    "\n",
    "num1 = input(\"원하시는 포화도의 값을 입력하세요. : \")\n",
    "\n",
    "num1 = int(num1)\n",
    "map_hs2 = folium.Map((37.579183, 126.996566), zoom_start = 12)\n",
    "\n",
    "mc2 = MarkerCluster()\n",
    "\n",
    "busstop.rename(columns= {'버스한대 당 정류장의 하루평균 포화도의 증가량' : '포화도증가량'}, inplace = True)\n",
    "over_num = busstop['포화도증가량'] >= num1 # 조회하고 싶은 값 입력\n",
    "over_topbus = busstop[over_num]\n",
    "\n",
    "for row in over_topbus.itertuples():#각 정류소 좌표, 노선번호, 정류소 이름넘겨 마커로 표시\n",
    "    mc2.add_child(folium.Marker(location = [row.Y좌표, row.X좌표], tooltip = str(row.노선번호)+ '번\\n' + row.정류소명, popup = row.포화도증가량))\n",
    "    map_hs2.add_child(mc2)\n",
    "coords = over_topbus[[\"Y좌표\",\"X좌표\"]]\n",
    "plugins.PolyLineOffset(coords, color='#000', opacity=1, offset=-5).add_to(map_hs2)  #마커끼리 연결\n",
    "    \n",
    "map_hs2.save('./bus_stops_over_top5.html')# 조회후 시각화 데이터 저장(조회 결과는 파일로 확인하시면 됩니다.)"
   ]
  },
  {
   "cell_type": "code",
   "execution_count": 21,
   "metadata": {},
   "outputs": [
    {
     "name": "stdout",
     "output_type": "stream",
     "text": [
      "원하시는 포화도의 값을 입력하세요. : -80\n"
     ]
    }
   ],
   "source": [
    "#상위 5개 버스 대상 포화도 이하 조회(-60 조회시 -60 이하 표시)\n",
    "map_hs2 = folium.Map((37.579183, 126.996566), zoom_start = 12)\n",
    "num2 = input(\"원하시는 포화도의 값을 입력하세요. : \")\n",
    "num2 = int(num2)\n",
    "mc2 = MarkerCluster()\n",
    "\n",
    "busstop.rename(columns= {'버스한대 당 정류장의 하루평균 포화도의 증가량' : '포화도증가량'}, inplace = True)\n",
    "over_num = busstop['포화도증가량'] <= num2 # 조회하고 싶은 값 입력\n",
    "over_topbus = busstop[over_num]\n",
    "\n",
    "for row in over_topbus.itertuples():#각 정류소 좌표, 노선번호, 정류소 이름넘겨 마커로 표시\n",
    "    mc2.add_child(folium.Marker(location = [row.Y좌표, row.X좌표], tooltip = str(row.노선번호)+ '번\\n' + row.정류소명, popup = row.포화도증가량))\n",
    "    map_hs2.add_child(mc2)\n",
    "coords = over_topbus[[\"Y좌표\",\"X좌표\"]]\n",
    "plugins.PolyLineOffset(coords, color='#000', opacity=1, offset=-5).add_to(map_hs2)  #마커끼리 연결\n",
    "    \n",
    "map_hs2.save('./bus_stops_under_top5.html')# 조회후 시각화 데이터 저장(조회 결과는 파일로 확인하시면 됩니다.)"
   ]
  },
  {
   "cell_type": "code",
   "execution_count": null,
   "metadata": {},
   "outputs": [],
   "source": []
  }
 ],
 "metadata": {
  "kernelspec": {
   "display_name": "Python 3",
   "language": "python",
   "name": "python3"
  },
  "language_info": {
   "codemirror_mode": {
    "name": "ipython",
    "version": 3
   },
   "file_extension": ".py",
   "mimetype": "text/x-python",
   "name": "python",
   "nbconvert_exporter": "python",
   "pygments_lexer": "ipython3",
   "version": "3.8.6"
  }
 },
 "nbformat": 4,
 "nbformat_minor": 4
}
